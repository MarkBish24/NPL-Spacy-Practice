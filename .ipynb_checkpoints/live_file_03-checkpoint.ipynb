{
 "cells": [
  {
   "cell_type": "code",
   "execution_count": 1,
   "id": "72292cfe-1218-4639-ba41-21cfc7c0d6f9",
   "metadata": {},
   "outputs": [],
   "source": [
    "import spacy"
   ]
  },
  {
   "cell_type": "code",
   "execution_count": 2,
   "id": "79851ff6-60c8-4027-96d6-af783f3b088c",
   "metadata": {},
   "outputs": [
    {
     "name": "stdout",
     "output_type": "stream",
     "text": [
      "Collecting en-core-web-md==3.8.0\n",
      "  Downloading https://github.com/explosion/spacy-models/releases/download/en_core_web_md-3.8.0/en_core_web_md-3.8.0-py3-none-any.whl (33.5 MB)\n",
      "     ---------------------------------------- 0.0/33.5 MB ? eta -:--:--\n",
      "     ----- ---------------------------------- 4.2/33.5 MB 25.2 MB/s eta 0:00:02\n",
      "     ------------ -------------------------- 10.5/33.5 MB 27.3 MB/s eta 0:00:01\n",
      "     ------------------ -------------------- 16.0/33.5 MB 26.5 MB/s eta 0:00:01\n",
      "     ------------------------ -------------- 20.7/33.5 MB 25.7 MB/s eta 0:00:01\n",
      "     ------------------------------ -------- 26.2/33.5 MB 25.6 MB/s eta 0:00:01\n",
      "     ----------------------------------- --- 30.7/33.5 MB 24.6 MB/s eta 0:00:01\n",
      "     --------------------------------------- 33.5/33.5 MB 23.1 MB/s eta 0:00:00\n",
      "Installing collected packages: en-core-web-md\n",
      "Successfully installed en-core-web-md-3.8.0\n",
      "\u001b[38;5;2m[+] Download and installation successful\u001b[0m\n",
      "You can now load the package via spacy.load('en_core_web_md')\n"
     ]
    }
   ],
   "source": [
    "!python -m spacy download en_core_web_md"
   ]
  },
  {
   "cell_type": "code",
   "execution_count": 3,
   "id": "a1034031-74b8-4dd1-83bc-85ae4c01e46e",
   "metadata": {},
   "outputs": [],
   "source": [
    "nlp = spacy.load(\"en_core_web_md\")"
   ]
  },
  {
   "cell_type": "code",
   "execution_count": 4,
   "id": "c5c382c2-8940-4ceb-b4cf-370caa260181",
   "metadata": {},
   "outputs": [],
   "source": [
    "with open (\"data/wiki_us.txt\", \"r\") as f:\n",
    "    text = f.read()"
   ]
  },
  {
   "cell_type": "code",
   "execution_count": 6,
   "id": "1ce77112-a773-4515-82bd-e369ce001f27",
   "metadata": {},
   "outputs": [
    {
     "name": "stdout",
     "output_type": "stream",
     "text": [
      "The United States of America (U.S.A. or USA), commonly known as the United States (U.S. or US) or America, is a country primarily located in North America.\n"
     ]
    }
   ],
   "source": [
    "doc = nlp(text)\n",
    "sentence1 = list(doc.sents)[0]\n",
    "print(sentence1)"
   ]
  },
  {
   "cell_type": "code",
   "execution_count": null,
   "id": "56a95273-28f4-43eb-8a5e-30b85272f3ea",
   "metadata": {},
   "outputs": [],
   "source": [
    "import numpy as np\n",
    "your_word = \"country\"\n",
    "\n",
    "ms = nlp.vocab.vectors.most_similar(np.asarray([nlp.vocab.vectors[nlp.vocab.strings[your_word]]]), n=10)"
   ]
  }
 ],
 "metadata": {
  "kernelspec": {
   "display_name": "Python 3 (ipykernel)",
   "language": "python",
   "name": "python3"
  },
  "language_info": {
   "codemirror_mode": {
    "name": "ipython",
    "version": 3
   },
   "file_extension": ".py",
   "mimetype": "text/x-python",
   "name": "python",
   "nbconvert_exporter": "python",
   "pygments_lexer": "ipython3",
   "version": "3.10.16"
  }
 },
 "nbformat": 4,
 "nbformat_minor": 5
}
